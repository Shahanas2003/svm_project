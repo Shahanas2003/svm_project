{
  "cells": [
    {
      "cell_type": "markdown",
      "metadata": {
        "id": "view-in-github",
        "colab_type": "text"
      },
      "source": [
        "<a href=\"https://colab.research.google.com/github/Shahanas2003/svm_project/blob/main/SVM.ipynb\" target=\"_parent\"><img src=\"https://colab.research.google.com/assets/colab-badge.svg\" alt=\"Open In Colab\"/></a>"
      ]
    },
    {
      "cell_type": "code",
      "execution_count": 1,
      "id": "a95fcd92",
      "metadata": {
        "colab": {
          "base_uri": "https://localhost:8080/"
        },
        "id": "a95fcd92",
        "outputId": "c9b74639-c520-47ba-d8e6-d63b96a93e80"
      },
      "outputs": [
        {
          "output_type": "stream",
          "name": "stdout",
          "text": [
            "LinearSVC Performance:\n",
            "Accuracy: 0.8905\n",
            "              precision    recall  f1-score   support\n",
            "\n",
            "           0       0.94      0.93      0.93     24201\n",
            "           1       0.91      0.92      0.91     28164\n",
            "           2       0.78      0.77      0.78      6929\n",
            "           3       0.90      0.90      0.90     11441\n",
            "           4       0.84      0.84      0.84      9594\n",
            "           5       0.72      0.70      0.71      3033\n",
            "\n",
            "    accuracy                           0.89     83362\n",
            "   macro avg       0.85      0.84      0.85     83362\n",
            "weighted avg       0.89      0.89      0.89     83362\n",
            "\n"
          ]
        }
      ],
      "source": [
        "from sklearn.feature_extraction.text import TfidfVectorizer\n",
        "from sklearn.model_selection import train_test_split\n",
        "from sklearn.svm import LinearSVC\n",
        "from sklearn.metrics import classification_report, accuracy_score\n",
        "import pandas as pd\n",
        "\n",
        "# Load your data\n",
        "data = pd.read_csv(\"emotions.csv\")\n",
        "X = data['text']\n",
        "y = data['label']\n",
        "\n",
        "# Train-test split\n",
        "X_train, X_test, y_train, y_test = train_test_split(X, y, test_size=0.2, random_state=42)\n",
        "\n",
        "# Vectorize\n",
        "vectorizer = TfidfVectorizer(stop_words='english', max_features=10000)\n",
        "X_train_tfidf = vectorizer.fit_transform(X_train)\n",
        "X_test_tfidf = vectorizer.transform(X_test)\n",
        "\n",
        "# Use only LinearSVC\n",
        "model = LinearSVC(random_state=42, dual=False, max_iter=1000)\n",
        "model.fit(X_train_tfidf, y_train)\n",
        "\n",
        "# Evaluate\n",
        "y_pred = model.predict(X_test_tfidf)\n",
        "print(\"LinearSVC Performance:\")\n",
        "print(f\"Accuracy: {accuracy_score(y_test, y_pred):.4f}\")\n",
        "print(classification_report(y_test, y_pred))\n"
      ]
    },
    {
      "cell_type": "code",
      "source": [
        "import re\n",
        "from nltk.stem import WordNetLemmatizer\n",
        "from nltk.corpus import stopwords\n",
        "import nltk\n",
        "\n",
        "nltk.download('stopwords')\n",
        "nltk.download('wordnet')\n",
        "\n",
        "def preprocess_text(text):\n",
        "    text = re.sub(r\"http\\S+|www\\S+|https\\S+\", '', text)\n",
        "    text = re.sub(r'\\@\\w+|\\#', '', text)\n",
        "    text = re.sub(r'[^A-Za-z\\s]', '', text)\n",
        "    text = text.lower()\n",
        "    tokens = text.split()\n",
        "    tokens = [t for t in tokens if t not in stopwords.words('english')]\n",
        "    lemmatizer = WordNetLemmatizer()\n",
        "    tokens = [lemmatizer.lemmatize(t) for t in tokens]\n",
        "    return ' '.join(tokens)"
      ],
      "metadata": {
        "colab": {
          "base_uri": "https://localhost:8080/"
        },
        "id": "qdGYNt7NYQ5C",
        "outputId": "d9a5b5fc-4326-4f92-ec0e-5100c64df3c0"
      },
      "id": "qdGYNt7NYQ5C",
      "execution_count": 3,
      "outputs": [
        {
          "output_type": "stream",
          "name": "stderr",
          "text": [
            "[nltk_data] Downloading package stopwords to /root/nltk_data...\n",
            "[nltk_data]   Unzipping corpora/stopwords.zip.\n",
            "[nltk_data] Downloading package wordnet to /root/nltk_data...\n"
          ]
        }
      ]
    },
    {
      "cell_type": "code",
      "source": [
        "def predict_emotion(tweet):\n",
        "    cleaned = preprocess_text(tweet)\n",
        "    vectorized = vectorizer.transform([cleaned])\n",
        "    prediction = model.predict(vectorized)[0]\n",
        "    return prediction"
      ],
      "metadata": {
        "id": "ggrnhcFoYcIA"
      },
      "id": "ggrnhcFoYcIA",
      "execution_count": 4,
      "outputs": []
    },
    {
      "cell_type": "code",
      "source": [
        "example_tweet = \"I'm so frustrated and angry right now!\"\n",
        "predicted_emotion = predict_emotion(example_tweet)\n",
        "print(\"Tweet:\", example_tweet)\n",
        "print(\"Predicted Emotion:\", predicted_emotion)"
      ],
      "metadata": {
        "colab": {
          "base_uri": "https://localhost:8080/"
        },
        "id": "ZldwYrGxYgYI",
        "outputId": "6df7439e-8df0-466e-c482-af3eb8f0ead6"
      },
      "id": "ZldwYrGxYgYI",
      "execution_count": 5,
      "outputs": [
        {
          "output_type": "stream",
          "name": "stdout",
          "text": [
            "Tweet: I'm so frustrated and angry right now!\n",
            "Predicted Emotion: 3\n"
          ]
        }
      ]
    },
    {
      "source": [
        "from sklearn.svm import SVC\n",
        "from sklearn.metrics import accuracy_score\n",
        "from sklearn.model_selection import train_test_split # Import train_test_split\n",
        "import pandas as pd # Import pandas if not already imported in this cell\n",
        "\n",
        "# Assuming df_subset is already created and preprocessed from previous steps\n",
        "# Split the subset data into training and validation sets\n",
        "\n",
        "# Create a subset of the data (e.g., 10000 rows)\n",
        "data_subset = data.sample(n=10000, random_state=42).copy() # Added this line\n",
        "\n",
        "X_subset = data_subset['text']\n",
        "y_subset = data_subset['label']\n",
        "\n",
        "# Split subset data into training and validation sets (e.g., 80% train, 20% validation)\n",
        "X_train_small, X_val_small, y_train_small, y_val_small = train_test_split(X_subset, y_subset, test_size=0.2, random_state=42)\n",
        "\n",
        "X_train_small_tfidf = vectorizer.transform(X_train_small)\n",
        "X_val_small_tfidf = vectorizer.transform(X_val_small)\n",
        "\n",
        "# Initialize SVM classifiers with different kernels\n",
        "\n",
        "svm_poly = SVC(kernel='poly', max_iter=1000)\n",
        "svm_rbf = SVC(kernel='rbf', max_iter=1000)\n",
        "svm_sigmoid = SVC(kernel='sigmoid', max_iter=1000)\n",
        "\n",
        "# Train the models using the vectorized small datasets\n",
        "\n",
        "svm_poly.fit(X_train_small_tfidf, y_train_small)\n",
        "svm_rbf.fit(X_train_small_tfidf, y_train_small)\n",
        "svm_sigmoid.fit(X_train_small_tfidf, y_train_small)\n",
        "\n",
        "# Evaluate the models using the vectorized validation set\n",
        "\n",
        "y_pred_poly = svm_poly.predict(X_val_small_tfidf)\n",
        "y_pred_rbf = svm_rbf.predict(X_val_small_tfidf)\n",
        "y_pred_sigmoid = svm_sigmoid.predict(X_val_small_tfidf)\n",
        "\n",
        "accuracy_poly = accuracy_score(y_val_small, y_pred_poly)\n",
        "accuracy_rbf = accuracy_score(y_val_small, y_pred_rbf)\n",
        "accuracy_sigmoid = accuracy_score(y_val_small, y_pred_sigmoid)\n",
        "\n",
        "\n",
        "print(f\"Accuracy (Polynomial): {accuracy_poly}\")\n",
        "print(f\"Accuracy (RBF): {accuracy_rbf}\")\n",
        "print(f\"Accuracy (Sigmoid): {accuracy_sigmoid}\")"
      ],
      "cell_type": "code",
      "metadata": {
        "colab": {
          "base_uri": "https://localhost:8080/"
        },
        "id": "lebI4VlxZrDw",
        "outputId": "1f23b1fc-66ca-42a8-b66b-13f7955c84fd"
      },
      "id": "lebI4VlxZrDw",
      "execution_count": 8,
      "outputs": [
        {
          "output_type": "stream",
          "name": "stderr",
          "text": [
            "/usr/local/lib/python3.11/dist-packages/sklearn/svm/_base.py:305: ConvergenceWarning: Solver terminated early (max_iter=1000).  Consider pre-processing your data with StandardScaler or MinMaxScaler.\n",
            "  warnings.warn(\n",
            "/usr/local/lib/python3.11/dist-packages/sklearn/svm/_base.py:305: ConvergenceWarning: Solver terminated early (max_iter=1000).  Consider pre-processing your data with StandardScaler or MinMaxScaler.\n",
            "  warnings.warn(\n",
            "/usr/local/lib/python3.11/dist-packages/sklearn/svm/_base.py:305: ConvergenceWarning: Solver terminated early (max_iter=1000).  Consider pre-processing your data with StandardScaler or MinMaxScaler.\n",
            "  warnings.warn(\n"
          ]
        },
        {
          "output_type": "stream",
          "name": "stdout",
          "text": [
            "Accuracy (Polynomial): 0.7\n",
            "Accuracy (RBF): 0.821\n",
            "Accuracy (Sigmoid): 0.855\n"
          ]
        }
      ]
    }
  ],
  "metadata": {
    "kernelspec": {
      "display_name": "Python 3",
      "language": "python",
      "name": "python3"
    },
    "language_info": {
      "codemirror_mode": {
        "name": "ipython",
        "version": 3
      },
      "file_extension": ".py",
      "mimetype": "text/x-python",
      "name": "python",
      "nbconvert_exporter": "python",
      "pygments_lexer": "ipython3",
      "version": "3.12.0"
    },
    "colab": {
      "provenance": [],
      "include_colab_link": true
    }
  },
  "nbformat": 4,
  "nbformat_minor": 5
}